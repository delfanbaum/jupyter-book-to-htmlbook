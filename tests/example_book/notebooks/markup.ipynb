{
 "cells": [
  {
   "attachments": {},
   "cell_type": "markdown",
   "metadata": {},
   "source": [
    "# Markup Tests\n",
    "\n",
    "The following include a number of markup tests to ensure that everything gets passed through to Atlas as we expect.\n",
    "\n",
    "For example, we should see a <span class=\"keep-together\">\"keep-together\"<span> span about part of this sentence.\n",
    "\n",
    "We would also expect the `role` directive to work, as in [this string]{.keep-together}, but only if the `attrs_inline` is added.\n",
    "\n",
    "```{note}\n",
    "The `attrs_inline` extension is not available in the current version of Jupyter Book.\n",
    "```"
   ]
  },
  {
   "attachments": {},
   "cell_type": "markdown",
   "metadata": {},
   "source": [
    "However, we _may_ want to highlight the ability to do bold code, e.g.:\n",
    "\n",
    "<pre data-type=\"programlisting\">\n",
    "puts <strong>\"Hello, World\"</strong>\n",
    "</pre>"
   ]
  },
  {
   "attachments": {},
   "cell_type": "markdown",
   "metadata": {},
   "source": [
    "Complex lists are challenging for a variety of reasons, for example:\n",
    "\n",
    "* They can be rendered in markdown, for example by:\n",
    "    1. Use markdown markup for markdown\n",
    "    2. Use tabs to provide sub-items\n",
    "* But they aren't really able to hold elements like images, notes, etc.\n",
    "\n",
    "For those, you'll need to use passthroughs:\n",
    "\n",
    "<ul>\n",
    "<li><p>For exmaple, this bullet point has a note.</p>\n",
    "<div data-type=\"note\">\n",
    "<h1>Some Title</h1>\n",
    "<p>Some information to be noted.</p>\n",
    "</div></li>\n",
    "<li><p>This is a second bullet point, with some <em>formatting</em> which must, remember, be done in HTML as a part of the passthrough.</p></li>\n",
    "</ul>\n"
   ]
  },
  {
   "attachments": {},
   "cell_type": "markdown",
   "metadata": {},
   "source": [
    "Also did we mention tables? Tables. Borrowed from the example docs, see {numref}`example-table`\n",
    "\n",
    "```{list-table} Table title\n",
    ":header-rows: 1\n",
    ":name: example-table\n",
    "\n",
    "* - Col1\n",
    "  - Col2\n",
    "* - Row1 under Col1\n",
    "  - Row1 under Col2\n",
    "* - Row2 under Col1\n",
    "  - Row2 under Col2\n",
    "```"
   ]
  },
  {
   "attachments": {},
   "cell_type": "markdown",
   "metadata": {},
   "source": [
    "Of course, sometimes a pagebreak is needed. If it's a paragraph, you can do something like the following:\n",
    "\n",
    "```html\n",
    "<p class=\"pagebreak-before\">\n",
    "Just like in a regular HTML book!\n",
    "</p>\n",
    "```\n",
    "\n",
    "Unfortunately, if it's a heading though, you can't use the regular `#` markup, you need to do it in HTML (see the following). _More_ unfortunately, it'll need to be the whole `<section>`. We'll show that at the very end.\n",
    "\n",
    "In the meantime, we want to ensure that xref passthroughs work, e.g., this one to <a data-type=\"xref\" data-xrefstyle=\"chap-num-title\" href=\"#ch1\">#ch1</a>.\n",
    "\n",
    "<section data-type=\"sect2\" id=\"summary\" class=\"pagebreak-before less_space\">\n",
    "<h2>Summary</h2>\n",
    "<p>Finally, a summary, though we'll include the code required to generate this summary just for fun:</p>\n",
    "<pre>\n",
    "&lt;section data-type=\"sect2\" id=\"summary\" class=\"pagebreak-before less_space\"&gt;\n",
    "&lt;h2&gt;Summary&lt;/h2&gt;\n",
    "&lt;p&gt;Finally, a summary, though we'll include the code required to generate this summary just for fun:&lt;/p&gt;\n",
    "&lt;p&gt;[code omitted to avoid infinite recursion!]&lt;/code&gt;\n",
    "&lt;/section&gt;\n",
    "</pre>\n",
    "</section>\n",
    "\n"
   ]
  }
 ],
 "metadata": {
  "language_info": {
   "name": "python"
  },
  "orig_nbformat": 4
 },
 "nbformat": 4,
 "nbformat_minor": 2
}
