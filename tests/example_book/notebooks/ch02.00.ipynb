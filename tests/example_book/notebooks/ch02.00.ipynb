{
 "cells": [
  {
   "attachments": {},
   "cell_type": "markdown",
   "metadata": {},
   "source": [
    "(ch2)=\n",
    "# Production Process for Jupyter Notebook Books\n",
    "\n",
    "```{epigraph}\n",
    "We'll just have to see what we can see.\n",
    "\n",
    "-- Terry\n",
    "```"
   ]
  },
  {
   "attachments": {},
   "cell_type": "markdown",
   "metadata": {},
   "source": [
    "This chapter disucsses the (working) production process for Jupyter Notebooks, as well as serves as an example of a chapter that's broken out into multiple Jupyter Notebook files. Sometimes we'll cite a book {cite}`book` also.\n",
    "\n",
    "Really, however, we're looking at special things, like admonitions and fancy new syntax.\n",
    "\n",
    "```{note}\n",
    "For example, this ought to display as a note.\n",
    "```\n",
    "\n",
    "The MyST markdown format also includes nice things like definition lists:\n",
    "\n",
    "A first term\n",
    ": Some information about that first term.\n",
    "\n",
    "A second term\n",
    ": Some information about _this_ term.\n",
    "\n",
    "Also, somewhat frighteningly, there appears to be index terms now? But it's not clear to me that we actually need to support that feature.\n",
    "\n",
    "```{index} Entry name\n",
    "```\n",
    "\n",
    "Still, we ought to support the newer figure syntax, as in [this figure](example-fig).\n",
    "\n",
    "```{figure} ../images/flower.png\n",
    "---\n",
    "height: 150px\n",
    "name: example-fig\n",
    "---\n",
    "Here is my figure caption!\n",
    "```\n",
    "\n",
    "And finally, alternate footnote syntax.[^mylabel]\n",
    "\n",
    "\n",
    "[^mylabel]: My footnote text."
   ]
  },
  {
   "attachments": {},
   "cell_type": "markdown",
   "metadata": {},
   "source": [
    "# Bibliography\n",
    "\n",
    "```{bibliography}\n",
    ":style: alpha\n",
    ":filter: docname in docnames\n",
    "```"
   ]
  }
 ],
 "metadata": {
  "kernelspec": {
   "display_name": "Python 3.9.6 64-bit ('3.9.6')",
   "language": "python",
   "name": "python3"
  },
  "language_info": {
   "name": "python",
   "version": "3.9.6"
  },
  "orig_nbformat": 4,
  "vscode": {
   "interpreter": {
    "hash": "513788764cd0ec0f97313d5418a13e1ea666d16d72f976a8acadce25a5af2ffc"
   }
  }
 },
 "nbformat": 4,
 "nbformat_minor": 2
}
