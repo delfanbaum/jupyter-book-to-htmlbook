{
 "cells": [
  {
   "attachments": {},
   "cell_type": "markdown",
   "metadata": {},
   "source": [
    "# Footnote Test\n",
    "\n",
    "Here is a test. This is a example of footnote.[^fn1] Another footnote, but this time the period is on the outside[^fn2]. \n",
    "\n",
    "Wildly, there is a third.[^fn3]\n",
    "\n",
    "[^fn1]: First footnote text\n",
    "[^fn2]: Second footnote text\n",
    "[^fn3]: Third footnote text"
   ]
  }
 ],
 "metadata": {
  "language_info": {
   "name": "python"
  },
  "orig_nbformat": 4
 },
 "nbformat": 4,
 "nbformat_minor": 2
}
