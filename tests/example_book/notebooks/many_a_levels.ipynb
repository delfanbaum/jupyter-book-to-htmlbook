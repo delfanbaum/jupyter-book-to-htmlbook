{
 "cells": [
  {
   "cell_type": "markdown",
   "metadata": {},
   "source": [
    "(someid)=\n",
    "\n",
    "# My Main Title\n",
    "\n",
    "Lorem ipsum dolor sit amet, consectetur adipiscing elit. Praesent id sollicitudin felis, in condimentum mi. Nullam dictum, turpis sit amet lacinia tincidunt, sapien nisi ultricies magna, ac cursus ante libero ac magna. Quisque a urna ac eros tempus dapibus. Fusce dignissim dapibus diam ut bibendum. Etiam sed sem sit amet turpis dictum vestibulum. Etiam in augue non risus venenatis suscipit. Fusce sodales nisi tortor, et dictum erat rhoncus in. Donec dictum aliquam imperdiet.\n",
    "\n",
    "Etiam aliquam tristique malesuada. Cras metus felis, laoreet id feugiat eu, blandit ut dolor. Quisque porta tellus non maximus mattis. Phasellus ac condimentum turpis, non tempus elit. Fusce porta, leo nec facilisis efficitur, augue dolor mollis turpis, a dignissim est neque a risus. Nunc lacinia diam facilisis placerat aliquam. Nullam massa turpis, egestas interdum odio vel, consectetur congue ante. Donec faucibus libero pretium nisi faucibus consequat. Maecenas et tempor purus, eu posuere velit. Cras hendrerit tincidunt ex, vitae ullamcorper elit mollis fringilla. In convallis erat in ex facilisis, in elementum velit ullamcorper. Duis interdum feugiat nibh, vitae porta nisl.\n",
    "\n",
    "\n",
    "\n",
    "\n",
    "\n"
   ]
  },
  {
   "cell_type": "markdown",
   "metadata": {},
   "source": [
    "Etiam aliquam tristique malesuada. Cras metus felis, laoreet id feugiat eu, blandit ut dolor. Quisque porta tellus non maximus mattis. Phasellus ac condimentum turpis, non tempus elit. Fusce porta, leo nec facilisis efficitur, augue dolor mollis turpis, a dignissim est neque a risus. Nunc lacinia diam facilisis placerat aliquam. Nullam massa turpis, egestas interdum odio vel, consectetur congue ante. Donec faucibus libero pretium nisi faucibus consequat. Maecenas et tempor purus, eu posuere velit. Cras hendrerit tincidunt ex, vitae ullamcorper elit mollis fringilla. In convallis erat in ex facilisis, in elementum velit ullamcorper. Duis interdum feugiat nibh, vitae porta nisl.\n",
    "\n"
   ]
  },
  {
   "cell_type": "markdown",
   "metadata": {},
   "source": [
    "# Example: A Second Main Heading\n",
    "\n",
    "Etiam [aliquam](http://example.com) tristique malesuada. Cras metus felis, laoreet id feugiat eu, blandit ut dolor. Quisque porta tellus non maximus mattis. Phasellus ac condimentum turpis, non tempus elit. Fusce porta, leo nec facilisis efficitur, augue dolor mollis turpis, a dignissim est neque a risus. Nunc lacinia diam facilisis placerat aliquam. Nullam massa turpis, egestas interdum odio vel, consectetur congue ante. Donec faucibus libero pretium nisi faucibus consequat. Maecenas et tempor purus, eu posuere velit. Cras hendrerit tincidunt ex, vitae ullamcorper elit mollis fringilla. In convallis erat in ex facilisis, in elementum velit ullamcorper. Duis interdum feugiat nibh, vitae porta nisl.\n",
    "\n"
   ]
  },
  {
   "cell_type": "code",
   "execution_count": 2,
   "metadata": {},
   "outputs": [
    {
     "name": "stdout",
     "output_type": "stream",
     "text": [
      "Hello, world\n"
     ]
    }
   ],
   "source": [
    "def hello():\n",
    "    print(\"Hello, world\")\n",
    "\n",
    "hello()"
   ]
  },
  {
   "cell_type": "markdown",
   "metadata": {},
   "source": [
    "Some text"
   ]
  },
  {
   "cell_type": "markdown",
   "metadata": {},
   "source": [
    ":::{note}\n",
    "\n",
    "A note\n",
    "\n",
    ":::"
   ]
  },
  {
   "cell_type": "markdown",
   "metadata": {},
   "source": [
    "More text"
   ]
  }
 ],
 "metadata": {
  "kernelspec": {
   "display_name": "Python 3",
   "language": "python",
   "name": "python3"
  },
  "language_info": {
   "codemirror_mode": {
    "name": "ipython",
    "version": 3
   },
   "file_extension": ".py",
   "mimetype": "text/x-python",
   "name": "python",
   "nbconvert_exporter": "python",
   "pygments_lexer": "ipython3",
   "version": "3.9.6"
  },
  "orig_nbformat": 4
 },
 "nbformat": 4,
 "nbformat_minor": 2
}
