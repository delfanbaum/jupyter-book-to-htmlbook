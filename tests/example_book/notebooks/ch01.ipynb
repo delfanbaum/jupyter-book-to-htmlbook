{
 "cells": [
  {
   "attachments": {},
   "cell_type": "markdown",
   "metadata": {},
   "source": [
    "(ch1)=\n",
    "# Jupyter Notebooks and Atlas"
   ]
  },
  {
   "attachments": {},
   "cell_type": "markdown",
   "metadata": {},
   "source": [
    "Here is an [example external link](http://example.com).\n",
    "\n",
    "There should be more text here, so:\n",
    "\n",
    "Lorem ipsum dolor sit amet, consectetur adipiscing elit. Proin vehicula mauris nulla, id finibus orci accumsan placerat. Mauris rhoncus ex in ipsum pellentesque, sed blandit arcu scelerisque. Aenean ut malesuada ligula. Mauris porttitor finibus nunc in dignissim. Phasellus sed diam gravida, aliquet nisi quis, placerat sapien. In augue lacus, egestas accumsan vulputate non, gravida at ex. Vivamus malesuada lectus nec blandit ultricies. Duis feugiat tortor vitae velit accumsan, eu imperdiet purus mattis. Fusce eu viverra arcu. Duis nec ex varius, tristique turpis ut, blandit sapien. Quisque non pellentesque nulla, vitae varius arcu. In maximus auctor pretium. Nunc elementum ac diam ut lobortis. Aliquam nec sapien eu ligula commodo aliquam. Integer in molestie libero, dignissim rhoncus lorem. Donec a laoreet magna.\n",
    "\n",
    "In malesuada sagittis libero ut bibendum. Sed dolor lacus, placerat eu ultricies nec, sollicitudin imperdiet sem. Vestibulum condimentum est a lacinia suscipit. Fusce vitae lacus et magna sollicitudin pulvinar. Morbi erat ipsum, vehicula sed orci et, rutrum hendrerit justo. Phasellus porttitor elementum mattis. Ut et commodo ligula.\n",
    "\n",
    "Also, here is a citation {cite}`book`. And then some others {cite}`article`, {cite}`booklet`.\n",
    "\n",
    "Sed nec vehicula nibh. Praesent vitae commodo lacus, sed vestibulum lacus. In egestas felis faucibus ultrices dapibus. Sed consectetur quam et leo tristique convallis. Nulla a diam libero. Vestibulum sit amet neque imperdiet, dictum urna sed, vehicula dolor. Integer tincidunt vulputate ex, at cursus tortor molestie sed. Maecenas at posuere justo. Nunc massa erat, rutrum id volutpat gravida, rhoncus in quam. Phasellus ex purus, consectetur nec dui ut, ultrices porta tortor.\n",
    "\n",
    "Also, why not some executable code? See the following:"
   ]
  },
  {
   "cell_type": "code",
   "execution_count": 1,
   "metadata": {},
   "outputs": [
    {
     "name": "stdout",
     "output_type": "stream",
     "text": [
      "Hello, Jane\n"
     ]
    }
   ],
   "source": [
    "def hello(name: str):\n",
    "    print(f\"Hello, {name}\")\n",
    "\n",
    "hello(\"Jane\")"
   ]
  },
  {
   "cell_type": "code",
   "execution_count": 2,
   "metadata": {},
   "outputs": [
    {
     "name": "stdout",
     "output_type": "stream",
     "text": [
      "I love apples!\n",
      "I love oranges!\n",
      "I love pears!\n"
     ]
    }
   ],
   "source": [
    "my_list = [\"apples\", \"oranges\", \"pears\"]\n",
    "\n",
    "for fruit in my_list:\n",
    "    print(f\"I love {fruit}!\")"
   ]
  },
  {
   "attachments": {},
   "cell_type": "markdown",
   "metadata": {},
   "source": [
    "So that was some `code`, which is really great, not unlike _italic_ text. Finally, some hidden code:"
   ]
  },
  {
   "cell_type": "code",
   "execution_count": 3,
   "metadata": {
    "tags": [
     "hide-input"
    ]
   },
   "outputs": [
    {
     "name": "stdout",
     "output_type": "stream",
     "text": [
      "The source for this his hidden!\n"
     ]
    }
   ],
   "source": [
    "print(\"The source for this his hidden!\")"
   ]
  },
  {
   "attachments": {},
   "cell_type": "markdown",
   "metadata": {},
   "source": [
    "And here we have hidden output:"
   ]
  },
  {
   "cell_type": "code",
   "execution_count": 4,
   "metadata": {
    "tags": [
     "hide-output"
    ]
   },
   "outputs": [
    {
     "name": "stdout",
     "output_type": "stream",
     "text": [
      "Don't see me!\n"
     ]
    }
   ],
   "source": [
    "print(\"Don't see me!\")"
   ]
  }
 ],
 "metadata": {
  "kernelspec": {
   "display_name": "Python 3.9.6 64-bit ('3.9.6')",
   "language": "python",
   "name": "python3"
  },
  "language_info": {
   "codemirror_mode": {
    "name": "ipython",
    "version": 3
   },
   "file_extension": ".py",
   "mimetype": "text/x-python",
   "name": "python",
   "nbconvert_exporter": "python",
   "pygments_lexer": "ipython3",
   "version": "3.9.6"
  },
  "orig_nbformat": 4,
  "vscode": {
   "interpreter": {
    "hash": "513788764cd0ec0f97313d5418a13e1ea666d16d72f976a8acadce25a5af2ffc"
   }
  }
 },
 "nbformat": 4,
 "nbformat_minor": 2
}
